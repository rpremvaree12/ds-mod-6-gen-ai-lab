{
 "cells": [
  {
   "cell_type": "markdown",
   "metadata": {},
   "source": [
    "Scenario: You're working at a retail chain analyzing inventory turnover. The store manager needs to understand stock movement patterns to optimize ordering.\n",
    "\n",
    "Data Structure: DataFrame\n",
    "\n",
    "product_id\n",
    "category\n",
    "stock_level\n",
    "last_restock_date\n",
    "sales_last_30_days\n",
    "supplier_lead_time\n",
    "unit_cost\n",
    "Task: Generate code to:\n",
    "\n",
    "Calculate inventory turnover rates.\n",
    "Identify slow-moving items.\n",
    "Predict potential stockouts.\n",
    "Create visualizations.\n",
    "Discussion Questions to Answer:\n",
    "\n",
    "How did different prompts handle date calculations?\n",
    "What visualization approaches were suggested?\n",
    "How was error handling implemented?"
   ]
  },
  {
   "cell_type": "code",
   "execution_count": null,
   "metadata": {},
   "outputs": [],
   "source": [
    "# Your Prompt:\n",
    "\"\"\"\n",
    "You are a data scientist at a retail chain tasked with analyzing inventory turnover. You want to understand stock movement patterns to optimize ordering. There is a dataframe with the following columns:\n",
    "\n",
    "product_id, category, stock_level, last_restock_date, sales_last_30_days, supplier_lead_time, unit_cost\n",
    "\n",
    "generate a random example dataframe of a reasonable size, about 10,000 rows, limit the number of unique product_ids to ~100 and 10 different categories\n",
    "calculate inventory turnover rates\n",
    "predict potential stockouts\n",
    "create visualizations to present to your manager\n",
    "\"\"\""
   ]
  },
  {
   "cell_type": "code",
   "execution_count": null,
   "metadata": {},
   "outputs": [],
   "source": [
    "# Generated Code:\n",
    "[Copy the AI-generated code]"
   ]
  },
  {
   "cell_type": "code",
   "execution_count": null,
   "metadata": {},
   "outputs": [],
   "source": [
    "# Follow-up Prompts:\n",
    "[List any clarifying prompts you used]"
   ]
  },
  {
   "cell_type": "code",
   "execution_count": null,
   "metadata": {},
   "outputs": [],
   "source": [
    "# Final Solution:\n",
    "[Your working code after refinements]"
   ]
  },
  {
   "cell_type": "code",
   "execution_count": null,
   "metadata": {},
   "outputs": [],
   "source": []
  },
  {
   "cell_type": "code",
   "execution_count": null,
   "metadata": {},
   "outputs": [],
   "source": []
  },
  {
   "cell_type": "code",
   "execution_count": null,
   "metadata": {},
   "outputs": [],
   "source": []
  }
 ],
 "metadata": {
  "kernelspec": {
   "display_name": "Python 3",
   "language": "python",
   "name": "python3"
  },
  "language_info": {
   "codemirror_mode": {
    "name": "ipython",
    "version": 3
   },
   "file_extension": ".py",
   "mimetype": "text/x-python",
   "name": "python",
   "nbconvert_exporter": "python",
   "pygments_lexer": "ipython3",
   "version": "3.8.5"
  }
 },
 "nbformat": 4,
 "nbformat_minor": 4
}
